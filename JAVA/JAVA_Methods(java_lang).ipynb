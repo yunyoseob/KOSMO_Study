{
  "nbformat": 4,
  "nbformat_minor": 0,
  "metadata": {
    "colab": {
      "name": "JAVA_Methods(java.lang).ipynb",
      "provenance": [],
      "collapsed_sections": [
        "tSHeVlG66T0i",
        "sc_K749B6T5I",
        "ZU57OP0o6UAt",
        "ogkW8hJN6UI2",
        "pr3pvV6M6URy",
        "4WK2LcZF6mjb",
        "_OpxAP9E6mqf",
        "3O7F9ivD6yE8",
        "cg32meHA6yNd",
        "1t601a8-6yUW",
        "SGgFUxEm6yYQ",
        "cCgrp1wu6yeL",
        "z9twIcm27LEm",
        "HBQsJbIa7LJc",
        "ENKJeogs7LPE",
        "h9KyrEYv7pOB"
      ]
    },
    "kernelspec": {
      "name": "python3",
      "display_name": "Python 3"
    },
    "language_info": {
      "name": "python"
    }
  },
  "cells": [
    {
      "cell_type": "markdown",
      "source": [
        "# JAVA Methods(java.lang) 모음"
      ],
      "metadata": {
        "id": "ZD8SUy6Q6P-i"
      }
    },
    {
      "cell_type": "markdown",
      "source": [
        "## ✔️ Boolean Class"
      ],
      "metadata": {
        "id": "tSHeVlG66T0i"
      }
    },
    {
      "cell_type": "markdown",
      "source": [
        "|Modifier and Type|Method|Description|Detail|\n",
        "|---|---|---|---|\n",
        "|boolean|equals(Object obj)|a Boolean object that represents **the same boolean value** as this object.|X|\n",
        "|int|hashCode()|Returns a hash code for this Boolean object.|X|\n",
        "|static int|hashCode(boolean value)|Returns a hash code for a boolean value; compatible with Boolean.hashCode().|Since: 1.8|\n",
        "|static String|toString(boolean b)|Returns a String object representing the specified boolean.|Since 1.4|\n",
        "|static Boolean|valueOf(boolean b)|Returns a Boolean instance representing the specified boolean value.|Since 1.4|\n",
        "|static Boolean|valueOf(String s)|Returns a Boolean with a value represented by the specified string.|Since 1.4|"
      ],
      "metadata": {
        "id": "f_BKe2iZ6T2x"
      }
    },
    {
      "cell_type": "markdown",
      "source": [
        "## ✔️ Byte Class"
      ],
      "metadata": {
        "id": "sc_K749B6T5I"
      }
    },
    {
      "cell_type": "markdown",
      "source": [
        "**Field Summary**\n",
        "\n",
        "|Modifier and Type|Field|Description|Detail|\n",
        "|---|---|---|---|\n",
        "|static int|BYTES|The number of bytes used to represent a byte value in two's complement binary form.|Since 1.8, Constant Field Values|\n",
        "|static byte|MAX_VALUE|A constant holding the maximum value a byte can have, 2^7-1.|Constant Field Values|\n",
        "|static byte|MIN_VALUE|A constant holding the minimum value a byte can have, -2^7.|Constant Field Values|\n",
        "|static int|SIZE|The number of bits used to represent a byte value in two's complement binary form.|Since 1.5. Constant Field Values|"
      ],
      "metadata": {
        "id": "I11SdrFg6T7u"
      }
    },
    {
      "cell_type": "markdown",
      "source": [
        "**Method Summary**\n",
        "\n",
        "|Modifier and Type|Method|Description|Detail|\n",
        "|---|---|---|---|\n",
        "|boolean|equals(Object obj)|Compares this object to the specified object.|Byte object that contains **the same byte value** as this object.|\n",
        "|int|hashCode()|Returns a hash code for this Byte; equal to the result of invoking intValue().|X|\n",
        "|static int|hashCode(byte value)|Returns a hash code for a byte value; compatible with Byte.hashCode().|Since 1.8|\n",
        "|int|intValue()|Returns the value of this Byte as an int after a widening primitive conversion.|intValue in class Number|\n",
        "|long|longValue()|Returns the value of this Byte as a long after a widening primitive conversion.|longValue in class Number|\n",
        "|short|shortValue()|Returns the value of this Byte as a short after a widening primitive conversion.|shortValue in class Number|\n",
        "|static String|toString(byte b)|Returns a new String object representing the specified byte.|X|\n",
        "|static Byte|valueOf(byte b)|Returns a Byte instance representing the specified byte value.|Since 1.5|\n",
        "|static Byte|valueOf(String s)|Returns a Byte object holding the value given by the specified String.|throws NumberFormatException, arguments were given to the parseByte(java.lang.String) method|"
      ],
      "metadata": {
        "id": "Kvh81Bix6T-H"
      }
    },
    {
      "cell_type": "markdown",
      "source": [
        "## ✔️ Short Class"
      ],
      "metadata": {
        "id": "ZU57OP0o6UAt"
      }
    },
    {
      "cell_type": "markdown",
      "source": [
        "**Field Summary**\n",
        "\n",
        "|Modifier and Type|Method|Description|Detail|\n",
        "|---|---|---|---|\n",
        "|static int|BYTES|The number of bytes used to represent a short value in two's complement binary form.|Since 1.8, Constant Field Values|\n",
        "|static short|MAX_VALUE|A constant holding the maximum value a short can have, 2^15-1.|X|\n",
        "|static short|MIN_VALUE|A constant holding the minimum value a short can have, -2^15.|X|\n",
        "|static int|SIZE|The number of bits used to represent a short value in two's complement binary form.|Since 1.5, Constant Field Values|"
      ],
      "metadata": {
        "id": "PVPhR9fM6UDW"
      }
    },
    {
      "cell_type": "markdown",
      "source": [
        "**Method Summary**\n",
        "\n",
        "|Modifier and Type|Method|Description|Detail|\n",
        "|---|---|---|---|\n",
        "|boolean|equals(Object obj)|Compares this object to the specified object.|a Short object that contains **the same short value** as this object.|\n",
        "|int|hashCode()|Returns a hash code for this Short; equal to the result of invoking intValue().|X|\n",
        "|static int|hashCode(short value)|Returns a hash code for a short value; compatible with Short.hashCode().|Since 1.8|\n",
        "|static String|toString(short s)|Returns a new String object representing the specified short.|X|\n",
        "|static Short|valueOf(String s)|Returns a Short object holding the value given by the specified String.|throws NumberFormatException, argument were given to the parseShort(java.lang.String)|"
      ],
      "metadata": {
        "id": "OI7uGe8P6UGN"
      }
    },
    {
      "cell_type": "markdown",
      "source": [
        "## ✔️ Character Class"
      ],
      "metadata": {
        "id": "ogkW8hJN6UI2"
      }
    },
    {
      "cell_type": "markdown",
      "source": [
        "|Modifier and Type|Method|Description|Detail|\n",
        "|---|---|---|---|\n",
        "|boolean|equals(Object obj)|Compares this object against the specified object.|argument is not null and is a Character object that represents **the same char value** as this object.|\n",
        "|static int|hashCode(char value)|Returns a hash code for a char value; compatible with Character.hashCode().|Since 1.8|\n",
        "|static boolean|isLowerCase(char ch)|Determines if the specified character is a lowercase character.|look at examples of lowercase characters|\n",
        "|static boolean|isUpperCase(char ch)|Determines if the specified character is an uppercase character.|look at examples of uppercase characters.|\n",
        "|static int|compare(char x, char y)|Compares two char values numerically.|Since 1.7|\n",
        "|static int|getNumericValue(char ch)|Returns the int value that the specified Unicode character represents.|Since 1.1|\n",
        "|static int|hashCode(char value)|Returns a hash code for a char value; compatible with Character.hashCode().|Since 1.8|\n",
        "|static String|toString(char c)|Returns a String object representing the specified char.|Since 1.4|\n",
        "|static Character|valueOf(char c)|Returns a Character instance representing the specified char value.|Since 1.5|"
      ],
      "metadata": {
        "id": "1PN6vavd6UMA"
      }
    },
    {
      "cell_type": "markdown",
      "source": [
        "**examples lowercase characters**\n",
        "\n",
        "![image](https://user-images.githubusercontent.com/81727895/155846759-01acec0b-6f6a-412c-bf2b-2f952362ccfa.png)"
      ],
      "metadata": {
        "id": "3tzjlEOL6UNy"
      }
    },
    {
      "cell_type": "markdown",
      "source": [
        "**examples of uppercase characters**\n",
        "\n",
        "![image](https://user-images.githubusercontent.com/81727895/155846920-9f4f0151-a5fd-4bab-a8ef-b2c6684d830c.png)\n"
      ],
      "metadata": {
        "id": "KmH325BA6UPq"
      }
    },
    {
      "cell_type": "markdown",
      "source": [
        "## ✔️ Integer Class"
      ],
      "metadata": {
        "id": "pr3pvV6M6URy"
      }
    },
    {
      "cell_type": "markdown",
      "source": [
        "**Field Summary**\n",
        "\n",
        "|Modifier and Type|Method|Description|Detail|\n",
        "|---|---|---|---|\n",
        "|static int|BYTES|The number of bytes used to represent a int value in two's complement binary form.|Since 1.8|\n",
        "|static int|MAX_VALUE|A constant holding the maximum value an int can have, 2^31-1.|Constant Field Values|\n",
        "|static int|MIN_VALUE|A constant holding the minimum value an int can have, -2^31.|Constant Field Values|\n",
        "|static int|SIZE|The number of bits used to represent an int value in two's complement binary form.|Since 1.5, Constant Field Values|"
      ],
      "metadata": {
        "id": "VyNODo-j6UTr"
      }
    },
    {
      "cell_type": "markdown",
      "source": [
        "**Method Summary**\n",
        "\n",
        "|Modifier and Type|Method|Description|Detail|\n",
        "|---|---|---|---|\n",
        "|boolean|equals(Object obj)|Compares this object to the specified object.|argument is not null and is an Integer object that contains **the same int value** as this object.|\n",
        "|static int|sum(int a, int b)|Adds two integers together as per the + operator.|Since 1.8|\n",
        "|static String|toBinaryString(int i)|Returns a string representation of the integer argument as an unsigned integer in base 2.|Since JDK1.0.2|\n",
        "|static String|toHexString(int i)|Returns a string representation of the integer argument as an unsigned integer in base 16.|Since JDK1.0.2, This value is converted to a string of **ASCII digits** in hexadecimal (base 16) with no extra leading 0s.|\n",
        "|static String|toOctalString(int i)|Returns a string representation of the integer argument as an unsigned integer in base 8.|Since JDK1.0.2|\n",
        "|String|toString()|Returns a String object representing this Integer's value.|X|\n",
        "|static String|toString(int i)|Returns a String object representing the specified integer.|X|\n",
        "|static Integer|valueOf(String s)|Returns an Integer object holding the value of the specified String.|throws NumberFormatException|\n",
        "|static int|parseInt(String s)|Parses the string argument as a signed decimal integer.|throws NumverFormatException|"
      ],
      "metadata": {
        "id": "VFgCJefE6mhA"
      }
    },
    {
      "cell_type": "markdown",
      "source": [
        "## ✔️ Long Class"
      ],
      "metadata": {
        "id": "4WK2LcZF6mjb"
      }
    },
    {
      "cell_type": "markdown",
      "source": [
        "**Field Summary**\n",
        "\n",
        "|Modifier and Type|Method|Description|Detail|\n",
        "|---|---|---|---|\n",
        "|static int|BYTES|The number of bytes used to represent a long value in two's complement binary form.|Since 1.8, Constant Field Values|\n",
        "|static long|MAX_VALUES|A constant holding the maximum value a long can have, 2^63-1.|X|\n",
        "|static long|MIN_VALUE|A constant holding the minimum value a long can have, -2^63.|X|\n",
        "|static int|SIZE|The number of bits used to represent a long value in two's complement binary form.|Since 1.5, Constant Field Values|"
      ],
      "metadata": {
        "id": "DWT4qTjV6mlz"
      }
    },
    {
      "cell_type": "markdown",
      "source": [
        "**Method Summary**\n",
        "\n",
        "|Modifier and Type|Method|Description|Detail|\n",
        "|---|---|---|---|\n",
        "|boolean|equals(Object obj)|Compares this object to the specified object.|the argument is not null and is a Long object that contains **the same long value** as this object.|\n",
        "|int|hashCode()|Returns a hash code for a long value; compatible with Long.hashCode().|X|\n",
        "|static long|max(long a, long b)|Returns the smaller of two long values as if by calling Math.min.|Since 1.8|\n",
        "|static long|parseLong|Parses the string argument as a signed decimal long.|throws NumberFormatException|\n",
        "|static String|toBinaryString(long i)|Returns a string representation of the long argument as an unsigned integer in base 2.|Since JDK 1.0.2|\n",
        "|static String|toHexString(long i)|Returns a string representation of the long argument as an unsigned integer in base 16.|Since JDK 1.0.2|\n",
        "|static String|toOctalString(long i)|Returns a string representation of the long argument as an unsigned integer in base 8.|Since JDK 1.0.2|\n",
        "|static String|toString(long i)|Returns a String object representing the specified long.|X|\n",
        "|static Long|valueOf(String s)|Returns a Long object holding the value of the specified String.|Throws NumberFormatException|"
      ],
      "metadata": {
        "id": "6JE3JzJw6moI"
      }
    },
    {
      "cell_type": "markdown",
      "source": [
        "## ✔️ Float Class"
      ],
      "metadata": {
        "id": "_OpxAP9E6mqf"
      }
    },
    {
      "cell_type": "markdown",
      "source": [
        "**Field Summary**\n",
        "\n",
        "|Modifier and Type|Method|Description|Detail|\n",
        "|---|---|---|---|\n",
        "|static int|BYTES|The number of bytes used to represent a float value.|Since 1.8|\n",
        "|static float|MAX_VALUE|A constant holding the largest positive finite value of type float, (2-2^-23)·2^127.|Constant Field Values|\n",
        "|static float|MIN_VALUE|A constant holding the smallest positive nonzero value of type float, 2-^149.|Constant Field Values|\n",
        "|static float|NaN|A constant holding a Not-a-Number (NaN) value of type float.|Constant Field Values|\n",
        "|static int|SIZE|The number of bits used to represent a float value.|Since 1.5, Constant Field Values|\n"
      ],
      "metadata": {
        "id": "AZzNRmYZ6msz"
      }
    },
    {
      "cell_type": "markdown",
      "source": [
        "**Method Summary**\n",
        "\n",
        "|Modifier and Type|Method|Description|Detail|\n",
        "|---|---|---|---|\n",
        "|boolean|equals(Object obj)|Compares this object against the specified object.| the argument is not null and is a Float object that represents **a float with the same value as the float** represented by this object.|\n",
        "|static int|compare(float f1, float f2)|Compares the two specified float values.|Since 1.4|\n",
        "|static int|hashCode(float value)|Returns a hash code for a float value; compatible with Float.hashCode().|Since 1.8|\n",
        "|static float|parseFloat(String s)|Returns a new float initialized to the value represented by the specified String, as performed by the valueOf method of class Float.|Since 1.2|\n",
        "|static String|toString(float f)|Returns a string representation of the float argument.|All characters mentioned below are ASCII characters.|\n",
        "|static Float|valueOf(String s)|Returns a Float object holding the float value represented by the argument string s.|throws NumberFormatException|"
      ],
      "metadata": {
        "id": "bGnC5uU16yCx"
      }
    },
    {
      "cell_type": "markdown",
      "source": [
        "## ✔️ Double Class"
      ],
      "metadata": {
        "id": "3O7F9ivD6yE8"
      }
    },
    {
      "cell_type": "markdown",
      "source": [
        "**Field Summary**\n",
        "\n",
        "|Modifier and Type|Method|Description|Detail|\n",
        "|---|---|---|---|\n",
        "|static int|BYTES|The number of bytes used to represent a double value.|Since 1.8|\n",
        "|static double|MAX_VALUE|A constant holding the largest positive finite value of type double, (2-2^-52)·2^1023.|Since JDK1.1|\n",
        "|static double|MIN_VALUE|A constant holding the smallest positive nonzero value of type double, 2^-1074.|Constant Field Values|\n",
        "|static double|NaN|A constant holding a Not-a-Number (NaN) value of type double.|Constant Field Values|\n",
        "|static double|NEGATIVE_INFINITY|A constant holding the negative infinity of type double.|Constant Field Values|\n",
        "|static double|POSITIVE_INFINITY|A constant holding the positive infinity of type double.|Constant Field Values|\n",
        "|static int|SIZE|The number of bits used to represent a double value.|Since 1.5, Constant Field Values|"
      ],
      "metadata": {
        "id": "lLoBa5aI6yH-"
      }
    },
    {
      "cell_type": "markdown",
      "source": [
        "**Method Summary**\n",
        "\n",
        "|Modifier and Type|Method|Description|Detail|\n",
        "|---|---|---|---|\n",
        "|boolean|equals(Object obj)|Compares this object against the specified object.|the argument is not null and is a Double object that **represents a double that has the same value as the double represented** by this object. |\n",
        "|static int|hashCode(double value)|Returns a hash code for a double value; compatible with Double.hashCode().|Since 1.8|\n",
        "|static double|parseDouble(String s)|Returns a new double initialized to the value represented by the specified String, as performed by the valueOf method of class Double.|Since 1.2|\n",
        "|static String|toHexString(double d)|Returns a hexadecimal string representation of the double argument.|Since 1.5, Returns a hexadecimal string representation of the double argument. All characters mentioned below are ASCII characters.|\n",
        "|static String|toString(double d)|Returns a string representation of the double argument.|X|\n",
        "|static Double|valueOf(String s)|Returns a Double object holding the double value represented by the argument string s.|throws NumberFormatException|"
      ],
      "metadata": {
        "id": "7vLESWM56yKz"
      }
    },
    {
      "cell_type": "markdown",
      "source": [
        "## ✔️ String Class"
      ],
      "metadata": {
        "id": "cg32meHA6yNd"
      }
    },
    {
      "cell_type": "markdown",
      "source": [
        "|Modifier and Type|Method|Description|Detail|\n",
        "|---|---|---|---|\n",
        "|boolean|equals(Object anObject)|Compares this string to the specified object.|a String object that represents **the same sequence of characters** as this object.|\n",
        "|char|charAt(int index)|Returns the char value at the specified index.|throws IndexOutOfBoundsException|\n",
        "|String|concat(String str)|Concatenates the specified string to the end of this string.|X|\n",
        "|boolean|contains(CharSequence s)|Returns true if and only if this string contains the specified sequence of char values.|Since 1.5|\n",
        "|static String|format(String format, Objcet ... args|Returns a formatted string using the specified format string and arguments.|Since 1.5|\n",
        "|int|indexOf(int ch)|Returns the index within this string of the first occurrence of the specified character.|X|\n",
        "|int|indexOf(String str)|Returns the index within this string of the first occurrence of the specified substring.|X|\n",
        "|int|lastIndexOf(int ch)|Returns the index within this string of the last occurrence of the specified character.|X|\n",
        "|int|lastIndexOf(String str)|Returns the index within this string of the last occurrence of the specified substring.|X|\n"
      ],
      "metadata": {
        "id": "9-6Qt9rz6yQQ"
      }
    },
    {
      "cell_type": "markdown",
      "source": [
        "|Modifier and Type|Method|Description|Detail|\n",
        "|---|---|---|---|\n",
        "|int|length()|Returns the length of this string.|X|\n",
        "|String|replace(char oldChar, char newChar)|Returns a string resulting from replacing all occurrences of oldChar in this string with newChar.|X|\n",
        "|int|indexOf(String str)|Returns the index within this string of the first occurrence of the specified substring.||\n",
        "|String|substring(int start)|Returns a new String that contains a subsequence of characters currently contained in this character sequence.|X|\n",
        "|String[]|split(String regax)|Splits this string around matches of the given regular expression.|Since 1.4|\n",
        "|String|substring(int beginIndex, int endIndex)|Returns a string that is a substring of this string.|throws IndexOutofBoundsException|\n",
        "|char[]|toCharArray()|Converts this string to a new character array.|X|\n",
        "|String|toLowerCase()|Converts all of the characters in this String to lower case using the rules of the default locale.|X|\n",
        "|String|toUpeerCase()|Converts all of the characters in this String to upper case using the rules of the default locale.|X|\n",
        "|static String|valuOf(boolean b)|Returns the string representation of the boolean argument.|X|\n",
        "|static String|valueOf(char c)|Returns the string representation of the char argument.|X|\n",
        "|static Stirng|valueOf(char[] data)|Returns the string representation of the char array argument.|X|\n",
        "|static String|valueOf(double d)|Returns the string representation of the double argument.|X|\n",
        "|static String|valueOf(float f)|Returns the string representation of the float argument.|X|\n",
        "|static String|valueOf(int i)|Returns the string representation of the int argument.|X|\n",
        "|static String|valueOf(long i)|Returns the string representation of the long argument.|X|\n",
        "|static String|valueOf(Object obj)|Returns the string representation of the Object argument.|X|"
      ],
      "metadata": {
        "id": "gl-hZEkg6ySc"
      }
    },
    {
      "cell_type": "markdown",
      "source": [
        "## ✔️ StringBuffer Class"
      ],
      "metadata": {
        "id": "1t601a8-6yUW"
      }
    },
    {
      "cell_type": "markdown",
      "source": [
        "|Modifier and Type|Method|Description|Detail|\n",
        "|---|---|---|---|\n",
        "|StringBuffer|append(boolean b), append(char c), append(char[] str), append(char[] str, int offset, int len), append(CharSequence s), append(CharSequence s, int start, int end), append(double d), \tappend(float f), append(int i), append(long lng), append(Object obj), append(String str), append(StringBuffer sb)|Appends to sequence|X|\n",
        "|StringBuffer|delete(int start, int end)|Removes the characters in a substring of this sequence.|X|\n",
        "|StringBuffer|\tdeleteCharAt(int index)|Removes the char at the specified position in this sequence.|X|"
      ],
      "metadata": {
        "id": "WEMStps76yWJ"
      }
    },
    {
      "cell_type": "markdown",
      "source": [
        "## ✔️ Math Class\n"
      ],
      "metadata": {
        "id": "SGgFUxEm6yYQ"
      }
    },
    {
      "cell_type": "markdown",
      "source": [
        "|Modifier and Type|Method|Description|Detail|\n",
        "|---|---|---|---|\n",
        "|static doublie, float, int, long, doublie|abs(double a), abs(float a) abs(int a), abs(long a), abs(double a)|Returns the absloute value of a data value.|X|\n",
        "|static double|ceil(double a)|Returns the smallest (closest to negative infinity) double value that is greater than or equal to the argument and is equal to a mathematical integer.(올림)|X|\n",
        "|static double|exp(double a)|Returns Euler's number e raised to the power of a double value.|X|\n",
        "|static double|round(double a)|Returns the closest long to the argument, with ties rounding to positive infinity.(반올림)|X|\n",
        "|static int|round(float a)|eturns the closest int to the argument, with ties rounding to positive infinity.(반올림)|X|\n",
        "|static double|floor(double a)|Returns the largest (closest to positive infinity) double value that is less than or equal to the argument and is equal to a mathematical integer.(내림)|\n",
        "|static double|pow(double a, double b)|Returns the value of the first argument raised to the power of the second argument.(제곱연산)|a^b|\n",
        "|static double, float, int, long|max(double a, double b), max(float a, float b), max(int a, int b), max(long a, long b)|Returns the greater of two values|X|\n",
        "|static double|random()|Returns a double value with a positive sign, greater than or equal to 0.0 and less than 1.0.(난수 발생)|"
      ],
      "metadata": {
        "id": "e6b4cAHI6ya9"
      }
    },
    {
      "cell_type": "markdown",
      "source": [
        "## ✔️ System Class"
      ],
      "metadata": {
        "id": "cCgrp1wu6yeL"
      }
    },
    {
      "cell_type": "markdown",
      "source": [
        "**Field Summary**\n",
        "\n",
        "|Modifier and Type|Method|Description|Detail|\n",
        "|---|---|---|---|\n",
        "|static PrintStream|err|The \"standard\" error output stream.|This stream is already open and ready to accept output data.|\n",
        "|static InputStream|in|The \"standard\" input stream.|This stream is already open and ready to accept output data.|\n",
        "|static PrintStream|out|The \"standard\" output stream.|This stream is already open and ready to accept output data.|\n",
        "\n",
        "![image](https://user-images.githubusercontent.com/81727895/158065964-6b88943e-6e07-4e9e-8c97-577c215bc011.png)"
      ],
      "metadata": {
        "id": "fPNYUudE7K_p"
      }
    },
    {
      "cell_type": "markdown",
      "source": [
        "|Modifier and Type|Method|Description|Detail|\n",
        "|---|---|---|--|\n",
        "|static long|currentTimeMillis()|Returns the current time in milliseconds.|See the description of the class Date for a discussion of slight discrepancies that may arise between \"computer time\" and coordinated universal time (UTC).|\n",
        "|static void|exit(int status)|Terminates the currently running Java Virtual Machine|This method calls the exit method in class Runtime. This method never returns normally.|\n",
        "|static Properties|getProperties()|Determines the current system properties.|X|\n",
        "|static String|getProperty(String key)|Gets the system property indicated by the specified key.|Return the string value of the system property, or null if there is no property with that key.|\n",
        "|static String|getProperty(String key, String def)|Gets the system property indicated by the specified key.|Returns the string value of the system property, or the default value if there is no property with that key.|\n",
        "|static int|identityHashCode(Object x)|Returns the same hash code for the given object as would be returned by the default method hashCode(), whether or not the given object's class overrides hashCode().|X|\n",
        "|static String|\tlineSeparator()|Returns the system-dependent line separator string.|On UNIX systems, it returns \"\\n\"; on Microsoft Windows systems it returns \"\\r\\n\". (Since 1.7)|\n",
        "|static void|load(String filename)|Loads the native library specified by the filename argument.|The filename argument must be an absolute path name.|X|\n",
        "|static void|setProperties(Properties props)|Sets the system properties to the Properties argument.|\n",
        "|static String|setProperty(String key, String value)|Sets the system property indicated by the specified key.|Returns the previous value of the system property, or null if it did not have one.(Since 1.2)|"
      ],
      "metadata": {
        "id": "k7uEgFPt7LCG"
      }
    },
    {
      "cell_type": "markdown",
      "source": [
        "## ✔️ Throwable Class"
      ],
      "metadata": {
        "id": "z9twIcm27LEm"
      }
    },
    {
      "cell_type": "markdown",
      "source": [
        "![image](https://user-images.githubusercontent.com/81727895/158066427-b8fef159-3de7-48ec-951b-92cee26082b0.png)\n",
        "\n",
        "|Modifier and Type|Method|Description|Detail|\n",
        "|---|---|---|---|\n",
        "|String|getMessage()|Returns the detail message string of this throwable.|X|\n",
        "|void|printStackTrace()|Prints this throwable and its backtrace to the standard error stream.|사용을 지양한다.|"
      ],
      "metadata": {
        "id": "gbSNNh9a7LHl"
      }
    },
    {
      "cell_type": "markdown",
      "source": [
        "## ✔️ Exception"
      ],
      "metadata": {
        "id": "HBQsJbIa7LJc"
      }
    },
    {
      "cell_type": "markdown",
      "source": [
        "**Constructors**\n",
        "\n",
        "|Modifier|Constructor|Description|Deail|\n",
        "|--|--|--|--|\n",
        "||Exception()|Constructs a new exception with null as its detail message.|X|\n",
        "||Exception(String message)|Constructs a new exception with the specified detail message.|X|\n",
        "||\tException(String message, Throwable cause)|Constructs a new exception with the specified detail message and cause.|Since 1.4|\n",
        "|protected|Exception(String message, Throwable cause, boolean enableSuppression, boolean writableStackTrace)|Constructs a new exception with the specified detail message, cause, suppression enabled or disabled, and writable stack trace enabled or disabled.|Since 1.7|\n",
        "||Exception(Throwable cause)|Constructs a new exception with the specified cause and a detail message of (cause==null ? null : cause.toString()) (which typically contains the class and detail message of cause).|Since 1.4|\n"
      ],
      "metadata": {
        "id": "gJ714Td07LMV"
      }
    },
    {
      "cell_type": "markdown",
      "source": [
        "## ✔️ Class Class"
      ],
      "metadata": {
        "id": "ENKJeogs7LPE"
      }
    },
    {
      "cell_type": "markdown",
      "source": [
        "|Modifier and Type|Method|Description|Detail|\n",
        "|---|---|---|---|\n",
        "|T|newInstance()|public T newInstance() throws InstantiationException, IllegalAccessException|Creates a new instance of the class represented by this Class object.|\n",
        "|Method[]|getDeclaredMethods()|public Method[] getDeclaredMethods() throws SecurityException|Returns an array containing Method objects reflecting all the declared methods of the class or interface represented by this Class object, including public, protected, default (package) access, and private methods, but excluding inherited methods.|\n",
        "|static Class<?>|forName(String className)|Returns the Class object associated with the class or interface with the given string name.|Parameters: className - the fully qualified name of the desired class.|\n",
        "|static Class<?>|\tforName(String name, boolean initialize, ClassLoader loader)|Returns the Class object associated with the class or interface with the given string name, using the given class loader.|Since 1.2|\n",
        "|Class<?>[]|getClasses()|Returns an array containing Class objects representing all the public classes and interfaces that are members of the class represented by this Class object.|X|\n",
        "|Method[]|getMethods()|Returns an array containing Method objects reflecting all the public methods of the class or interface represented by this Class object, including those declared by the class or interface and those inherited from superclasses and superinterfaces.|X|\n",
        "|String|getName()|Returns the name of the entity (class, interface, array class, primitive type, or void) represented by this Class object, as a String.|X|\n",
        "|Package|getPackage()|Gets the package for this class.|X|\n",
        "|T|newInstance()|Creates a new instance of the class represented by this Class object.|X|\n",
        "|String|toString()|Converts the object to a string.|X|"
      ],
      "metadata": {
        "id": "dnRVlfvP7pLR"
      }
    },
    {
      "cell_type": "markdown",
      "source": [
        "## ✔️ Object Class(java 상속클래스의 시조)"
      ],
      "metadata": {
        "id": "h9KyrEYv7pOB"
      }
    },
    {
      "cell_type": "markdown",
      "source": [
        "**Constructors**\n",
        "\n",
        "|Constructor and Description|\n",
        "|--|\n",
        "|Object()|\n",
        "\n",
        "Class Object is the root of the class hierarchy. Every class has Object as a superclass. All objects, including arrays, implement the methods of this class."
      ],
      "metadata": {
        "id": "dW1Uls4t7pP3"
      }
    },
    {
      "cell_type": "markdown",
      "source": [
        "\n",
        "|Modifier and Type|Method|Description|Detail|\n",
        "|---|---|---|--|\n",
        "|boolean|equals(Object obj)|public boolean equals(Object obj)|아래 사진 첨부|\n",
        "|Class<?>|getClass()|public final Class<?> getClass()|Returns the runtime class of this Object. The returned Class object is the object that is locked by static synchronized methods of the represented class.|\n",
        "|int|hashCode()|public int hashCode()|Returns a hash code value for the object.|\n",
        "|String|toString()|public String toString()|Returns a string representation of the object. +getClass().getName() + '@' + Integer.toHexString(hashCode())|\n",
        "|void|wait()|Causes the current thread to wait until another thread invokes the notify() method or the notifyAll() method for this object.|X|\n",
        "|void|wait(lnog timeout)|Causes the current thread to wait until either another thread invokes the notify() method or the notifyAll() method for this object, or a specified amount of time has elapsed.|X|\n",
        "|void|wait(long timeout, int nanos)|Causes the current thread to wait until another thread invokes the notify() method or the notifyAll() method for this object, or some other thread interrupts the current thread, or a certain amount of real time has elapsed.|X|\n",
        "\n"
      ],
      "metadata": {
        "id": "zFV13kYU72Qh"
      }
    },
    {
      "cell_type": "markdown",
      "source": [
        "\n",
        "![](https://images.velog.io/images/yunyoseob/post/7fef7850-600f-4cbc-9f4e-eca9a0ffaa14/image.png)"
      ],
      "metadata": {
        "id": "-HP8WNRS72Ta"
      }
    }
  ]
}
