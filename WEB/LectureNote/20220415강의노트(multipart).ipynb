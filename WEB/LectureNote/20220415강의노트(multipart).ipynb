{
  "nbformat": 4,
  "nbformat_minor": 0,
  "metadata": {
    "colab": {
      "name": "20220415강의노트(multipart).ipynb",
      "provenance": [],
      "collapsed_sections": []
    },
    "kernelspec": {
      "name": "python3",
      "display_name": "Python 3"
    },
    "language_info": {
      "name": "python"
    }
  },
  "cells": [
    {
      "cell_type": "markdown",
      "source": [
        "# WEB"
      ],
      "metadata": {
        "id": "7M1VQxd07_OT"
      }
    },
    {
      "cell_type": "markdown",
      "source": [
        "Content type\n",
        "\n",
        "```\n",
        "✔ media-type(MIME type) \n",
        "✔ charset\n",
        "✔ boundary\n",
        "\n",
        "```\n"
      ],
      "metadata": {
        "id": "uQGaYnVI7_QY"
      }
    },
    {
      "cell_type": "markdown",
      "source": [
        "2022-04-15\n",
        "---------------------------------\n",
        "\n",
        "jsp \n",
        "\n",
        "1. 페이지 이동\n",
        "\n",
        "```\n",
        "\t<jsp:forward\n",
        "\t<jsp:include\n",
        "\t<%@ include\n",
        "\tRequestDispacher.forward()\n",
        "\tresponse.sendRedirect()\n",
        "\tlocation.href\n",
        "\thistory.go()\n",
        "\t<a href=\"\"\n",
        "```\n",
        "\n",
        "2. 데이터 이동 \n",
        "\n",
        "```\n",
        "\trequest.getParameter();\n",
        "\trequest.getAttribute(java.lang.String)\n",
        "```\n",
        "\n",
        "3. 파일 업로드 \n",
        "\n",
        "```\n",
        "\tPOST, multipart/form-data\n",
        "form , method \n",
        "텍스트 : key=value&key=value : application/x-www-form-urlencoded\n",
        "바이너리 : 파일데이터 : multipart/form-data\n",
        "```\n",
        "\n",
        "\n",
        "> **GET**\n",
        "\n",
        "```\n",
        "\tapplication/x-www-form-urlencoded\t: key=value\n",
        "\tmultipart/form-data\n",
        "```\n",
        "\n",
        "> **POST**\n",
        "\n",
        "```\n",
        "\tapplication/x-www-form-urlencoded\t: key=value\n",
        "\tmultipart/form-data\t: 파일 업로드 할 때 \n",
        "```  "
      ],
      "metadata": {
        "id": "tPx7UaAt7_TA"
      }
    }
  ]
}