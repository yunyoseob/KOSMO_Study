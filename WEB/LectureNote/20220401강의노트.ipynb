{
  "nbformat": 4,
  "nbformat_minor": 0,
  "metadata": {
    "colab": {
      "name": "20220401강의노트.ipynb",
      "provenance": []
    },
    "kernelspec": {
      "name": "python3",
      "display_name": "Python 3"
    },
    "language_info": {
      "name": "python"
    }
  },
  "cells": [
    {
      "cell_type": "markdown",
      "source": [
        "2 ~ 3명 미니 프로젝트 \n",
        "\n",
        "```\n",
        "1.\tIT 프로젝트를 할 때 꼭 필요한 소양이 있는데 \n",
        "\t아무런 정보 없이 체험을 해서 \n",
        "\t다음 프로젝트에서 부터 조금씩 보정을 하는 것\n",
        "\n",
        "\t프로젝트 팀원과의 소통\n",
        "\t\t이전에는 대면 프로젝트 \n",
        "\t\t현재는 비대면 프로젝트 \n",
        "```\n",
        "\n",
        "서로 사용하는 용어를 잘 전달하고 들어야 한다.\n",
        "\n",
        "\t=========================================\n",
        "\t\n",
        "현재는 우리는 용어에 익숙하지가 않다.\n",
        "\n",
        "서로 내용을 풀어서 상대방이 알 수 있게 \n",
        "\n",
        "설명하고\n",
        "\n",
        "\t-----------------------------------------\n",
        "\n",
        "\t듣는 사람은 그 내용이 잘 모르겠으면 \n",
        "\t몇 번이고 질문하고 들어야 해 <-- \n",
        "\t\t프로젝트가 산으로 간다고 한다. \n",
        "\n",
        "\t-----------------------------------------\n",
        "\n",
        "\t용어 ???? <--- 본인이 노력을 해야 하는 것\n",
        "\n",
        "\t=========================================\n",
        "\n",
        "2. 소스를 따라서 치기 \n",
        "\n",
        "\t자기 맘대로 치기(변형) 하기 없기 \n",
        "\n",
        "3. 소스를 구성할 때는 \n",
        "\n",
        "```\n",
        "\t입력 : html - jsp - vo - service - dao - sql \n",
        "\t\t\thtml\n",
        "\t\t\tjsp - vo\n",
        "\t\t\t나눠서 연습 <-- 서민정 반장님 이케 시켜\n",
        "\t\t\tsrc - service - vo - dao - sql \n",
        "\t전체조회\n",
        "\t조회\n",
        "\t수정\n",
        "\t삭제\n",
        "```\n",
        "\n",
        "4. 기술 보안\n",
        "\n",
        "```sql\n",
        "\t쿼리문할 때 \n",
        "\tSELECT 구문에서만 사용하세요 (테이블 앨리어스, 컬럼 엘리어스)\n",
        "\t\tSELECT TO_CHAR(TO_DATE(A.HIREDATE, 'YYYY-MM-DD')) HIREDATE FROM EMP A;\n",
        "\n",
        "\tDML : INSERT, UPDATE, DELETE 에서는 \n",
        "\t\t테이블 앨리어스, 컬럼 엘리어스를 사용하지 않는다.\n",
        "\t\t컬럼에서는 오라클 함수를 사용하지 않는다.\n",
        "\t\tINSERT INTO EMP (HIREDATE) VALUES('YYYY/MM/DD');\n",
        "\t\tUPDATE EMP SET  HIREDATE = 'YYYY-MM-DD' WHERE EMPNO = '7369';\n",
        "```    "
      ],
      "metadata": {
        "id": "p40BRpOohffX"
      }
    }
  ]
}