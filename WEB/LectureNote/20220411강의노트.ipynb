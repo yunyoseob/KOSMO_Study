{
  "nbformat": 4,
  "nbformat_minor": 0,
  "metadata": {
    "colab": {
      "name": "20220411강의노트.ipynb",
      "provenance": [],
      "collapsed_sections": []
    },
    "kernelspec": {
      "name": "python3",
      "display_name": "Python 3"
    },
    "language_info": {
      "name": "python"
    }
  },
  "cells": [
    {
      "cell_type": "markdown",
      "source": [
        "# Web"
      ],
      "metadata": {
        "id": "x6znyG7t_isD"
      }
    },
    {
      "cell_type": "markdown",
      "source": [
        " > **JavaScript 5개 객체**\n",
        "\n",
        "\n",
        "1. screen : 전체 스크린\n",
        "\n",
        "2. navigator : 웹 문서의 정보 \n",
        "\n",
        "3. history : 뒤로 가기, 앞으로 가기 등\n",
        "\n",
        "4. location : 주소표시줄 URL\n",
        "\n",
        "5. document : html의 body태그에 해당\n"
      ],
      "metadata": {
        "id": "nqlaXyFQ_iv_"
      }
    },
    {
      "cell_type": "markdown",
      "source": [
        "**데이터를 가지고, 페이지 이동 기술 :jsp, php 등등...**\n",
        "\n",
        "```\n",
        "C:\\Program Files\\Apache Software Foundation\\Tomcat 8.5\\lib\n",
        "```\n",
        "\n",
        "안에 있는 jasper.jar 파일이 servlet으로 변경해준다.\n",
        "(이 외에도, servlet-api.jar, jsp-api.jar 파일이 같이 일을 한다.)\n",
        "\n",
        "> **JSP 파일에서 오타가 발생하면 jsp 코드가 servlet으로 변경하면서 오류가 난다.**\n",
        "\n",
        " > **즉, 에러 로그에 jasper 내용이 있으면, jsp 파일 안에서 오타가 발생함을 유추할 수 있다.**"
      ],
      "metadata": {
        "id": "dYl5bvQe_iyS"
      }
    },
    {
      "cell_type": "markdown",
      "source": [
        "#### JSP 내장 객체\n",
        "\n",
        "PRSARO(피알사로)\n",
        "\n",
        "```\n",
        "pageContext\n",
        "request\n",
        "session\n",
        "application\n",
        "\n",
        "response\n",
        "out\n",
        "```"
      ],
      "metadata": {
        "id": "g4d4E4wyIcyK"
      }
    },
    {
      "cell_type": "markdown",
      "source": [
        "> **정적 데이터 VS 동적 데이터**\n",
        "\n",
        "모두에게 같은 화면이 보이면 정적인 데이터, \n",
        "\n",
        "\n",
        "다른 화면이 보이면 동적인 데이터\n"
      ],
      "metadata": {
        "id": "7KozNNHp_i0w"
      }
    },
    {
      "cell_type": "markdown",
      "source": [
        "el : Expression Language\n",
        "\n",
        "```\n",
        "C:\\Program Files\\Apache Software oundation\\Tomcat 8.5\\lib\\el-api.jar\n",
        "```\n",
        "\n",
        "프로그램끼리 충돌나는 경우도 있다.\n",
        "\n",
        "사용법\n",
        "\n",
        "```\n",
        "${param.mid}\n",
        "${param.mpw}\n",
        "```\n",
        "\n",
        "주석 처리하는 법\n",
        "\n",
        "```\n",
        "\\${param.mid}\n",
        "\\${param.mpw}\n",
        "```\n",
        "\n",
        "이렇게 하면 주석처리가 된다."
      ],
      "metadata": {
        "id": "yyC1cw64_i3o"
      }
    },
    {
      "cell_type": "markdown",
      "source": [
        "java resource에 옮겨 놓기\n",
        "\n",
        "```\n",
        "C:\\Program Files\\Java\\jdk1.8.0_202\\jre\\lib\\ext\n",
        "```"
      ],
      "metadata": {
        "id": "FjTNfClv_i6Q"
      }
    },
    {
      "cell_type": "markdown",
      "source": [
        "> **리터럴 객체 vs JSON 객체**\n",
        "\n",
        "JSON 객체는 \"\"이 하나 더 붙는다.\n",
        "\n",
        "```javascript\n",
        "var mname_val=$(\"#mname\").val();\n",
        "console.log(\"mname_val >>> : \"+mname_val);\n",
        "console.log(\"JSON.stringfy(mname_val) >>> : \"+JSON.stringfy(mname_val));\n",
        "```\n",
        "\n",
        "하나는 아무것도 출력되지 않고,\n",
        "\n",
        "JSON은 \"\"으로 출력된다. 아무것도 없는 값에 \"\"가 붙는다."
      ],
      "metadata": {
        "id": "NIpSBZtL_i85"
      }
    },
    {
      "cell_type": "markdown",
      "source": [
        "## 강의노트"
      ],
      "metadata": {
        "id": "fi9lXozW_jCr"
      }
    },
    {
      "cell_type": "markdown",
      "source": [
        "2022-04-11\n",
        "\n",
        "--------------------------------\n",
        "\n",
        "JSP :\t자바 언어를 기반으로해서 페이지를 이동하는 기술이다. \n",
        "\n",
        "```\n",
        "\t\t동적인 데이터 처리 \n",
        "```\n",
        "\n",
        "1.\tContext/WebContent -> New - JSP File : 확장자 : test.jsp \n",
        "\n",
        "```\n",
        "\ttest.jsp 화일을 요청하면\n",
        "\t\ttest.jsp가 서블릿으로 변경 test_jsp.java (서블릿 Servlet)\n",
        "\t\ttest_jsp.java 가 컴파일 됨 test_jsp.class (클래스 파일)\n",
        "\ttest_jsp.class 가 실행 됨\n",
        "\t\\el_web_work\\.metadata\\.plugins\\org.eclipse.wst.server.core\\\n",
        "\ttmp0\\work\\\n",
        "\tCatalina\\localhost\\kosMember\\org\\apache\\jsp\\kosmem\n",
        "\t\n",
        "\tC:\\Program Files\\Apache Software Foundation\\Tomcat 8.5\\lib\\jsp-api.jar\n",
        "\tC:\\Program Files\\Apache Software Foundation\\Tomcat 8.5\\lib\\servlet-api.jar\n",
        "\tC:\\Program Files\\Apache Software Foundation\\Tomcat 8.5\\lib\\jasper.jar\n",
        "\n",
        "\t자스퍼 : jasper.jar\n",
        "\t\tjsp 소스코드를 \n",
        "\t\tServlet 소스코드 및 Servlet 클래스로 변경할 때 사용하는 라이브러이이다. \n",
        "```\n",
        "\n",
        "2. 태그 \n",
        "\n",
        "```\n",
        "\t<% 자바 코드 %>\n",
        "\t<%= %>\n",
        "\t<%-- --%> : jsp 주석 : 클라이언트로 전송되지 않는다. \n",
        "\t<%@ page\n",
        "\t\t<%@ page import=\"\" %>\n",
        "\t\n",
        "\t<%@ include : 페이지를 이동시키는 태그 \n",
        "\t<%@ taglib\t: jsp에서 만들어준 태그를 사용하는 것 \n",
        "\n",
        "\t<jsp:forward : 페이지를 이동시키는 액션태그 \n",
        "\t<jsp:include : 페이지를 이동시키는 액션태그 \n",
        "\t<jsp:param : 페이지 이동시 데이터를 전송하는 액션태그 \n",
        "```\n",
        "\n",
        "3. 내장객체 \n",
        "\n",
        "```\n",
        "\tpageContext\n",
        "\trequest\t\n",
        "\tsession\n",
        "\tapplication\n",
        "\n",
        "\tresponse\n",
        "\tout\n",
        "```\n",
        "\n",
        "4. UI 요소 (화면구현 요소)\n",
        "\n",
        "--------------------------------------------------------\n",
        "\n",
        "HTML\n",
        "CSS\n",
        "JavaScript, jQuery\n",
        "Ajax\n",
        "JSON, XML\n",
        "\n",
        "```\n",
        "param.html\t\t\t\t-> param_A.jsp \n",
        "form\n",
        "\tinput name=\"mid\"\trequest.getParameter(\"mid\");\n",
        "```  "
      ],
      "metadata": {
        "id": "s__DxE5v_jFL"
      }
    }
  ]
}