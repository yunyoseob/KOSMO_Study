{
  "nbformat": 4,
  "nbformat_minor": 0,
  "metadata": {
    "colab": {
      "name": "20220502강의노트.ipynb",
      "provenance": [],
      "collapsed_sections": []
    },
    "kernelspec": {
      "name": "python3",
      "display_name": "Python 3"
    },
    "language_info": {
      "name": "python"
    }
  },
  "cells": [
    {
      "cell_type": "markdown",
      "source": [
        "# Web"
      ],
      "metadata": {
        "id": "L4hX0z73PM7K"
      }
    },
    {
      "cell_type": "markdown",
      "source": [
        "> **SQL**\n",
        "\n",
        "함수에서 가장 중요한 것\n",
        "\n",
        "- 단일행 리턴, 다중행 리턴 구별하는 것 중요하다!"
      ],
      "metadata": {
        "id": "VjgCLD29PM9k"
      }
    },
    {
      "cell_type": "markdown",
      "source": [
        "> **JOIN**\n",
        "\n",
        "여러 테이블의 데이터를 조합하여 출력하는 것을 가능하게 만들어주는 SQL의 명령어"
      ],
      "metadata": {
        "id": "ESH6AIwePNAB"
      }
    },
    {
      "cell_type": "markdown",
      "source": [
        "> **논리모델 vs 물리모델**\n",
        "\n",
        "논리모델 :  물리모델 만들기 전에 가테이블을 만들기 (데이터 사이즈, NOT NULL(CONSTANT) 등등)\n",
        "\n",
        "물리모델 : 실제 entity를 정확히 기재"
      ],
      "metadata": {
        "id": "O61cjrkjPNC5"
      }
    },
    {
      "cell_type": "markdown",
      "source": [
        "## Ajax"
      ],
      "metadata": {
        "id": "2EJFjFsqPNFY"
      }
    },
    {
      "cell_type": "markdown",
      "source": [
        "Ajax : 화면전환없이 데이터 가져오는 기술\n",
        "\n",
        ">  **좀 더 구체적인 정의**\n",
        "\n",
        "Ajax는 클라이언트(클라이언트 컴퓨터)가 비동기 방식(동기방식으로도) 자바스크립트를 이용하여 화면 전환없이 서버(서버 컴퓨터)에서 자료(xml, json, html, plain text etc..)를 요청할 때 사용하는 방법이다."
      ],
      "metadata": {
        "id": "HT9Edz6xPNHx"
      }
    },
    {
      "cell_type": "markdown",
      "source": [
        "> **[Cross-origin resource sharing](https://ko.wikipedia.org/wiki/%EA%B5%90%EC%B0%A8_%EC%B6%9C%EC%B2%98_%EB%A6%AC%EC%86%8C%EC%8A%A4_%EA%B3%B5%EC%9C%A0)**\n",
        "\n",
        "- 동일한 도메인끼리만 가능하다. 다른 도메인쓰려면 다른 방법을 써야한다."
      ],
      "metadata": {
        "id": "A-NTv9CGPNKn"
      }
    },
    {
      "cell_type": "markdown",
      "source": [
        "> **form 태그 vs Ajax**\n",
        "\n",
        "공통정: HTTP 프로토콜에서 HTML문서로 request와 response를 한다.\n",
        "\n",
        "차이점: \n",
        "\n",
        "||form태그|Ajax|\n",
        "|--|--|--|\n",
        "|새로고침여부|새로고침O|새로고침X|\n",
        "|동기비동기여부|동기|동기,비동기 선택|\n"
      ],
      "metadata": {
        "id": "ZPLi848iPNOp"
      }
    },
    {
      "cell_type": "markdown",
      "source": [
        "**Java**는 String 으로 주고 받는다.\n",
        "\n",
        "**HTTP**에서는 HTML으로 주고 받는다."
      ],
      "metadata": {
        "id": "YlXPs4Xit0hT"
      }
    },
    {
      "cell_type": "markdown",
      "source": [
        "> **노드로 작업하기**\n",
        "\n",
        "```javascript\n",
        "node.append(노드나 문자열) – 노드나 문자열을 node 끝에 삽입합니다.\n",
        "node.prepend(노드나 문자열) – 노드나 문자열을 node 맨 앞에 삽입합니다.\n",
        "node.before(노드나 문자열) –- 노드나 문자열을 node 이전에 삽입합니다.\n",
        "node.after(노드나 문자열) –- 노드나 문자열을 node 다음에 삽입합니다.\n",
        "node.replaceWith(노드나 문자열) –- node를 새로운 노드나 문자열로 대체합니다.\n",
        "```"
      ],
      "metadata": {
        "id": "gha7lYcCt0j_"
      }
    },
    {
      "cell_type": "markdown",
      "source": [
        "### 2022-05-02\n",
        "\n",
        "-----------------------------------\n",
        "\n",
        "Ajax 는\n",
        "\n",
        "```\n",
        "================================================================\n",
        "\n",
        "Ajax는 클라이언트(클라이언트 컴퓨터)가 비동기 방식으로[동기 방식으로 도] \n",
        "자바스크립트를 이용하여 \n",
        "화면 전환없이 서버(서버 컴퓨터)에서 자료(xml, json, html, plian text etc.)\n",
        "를 요청할 때 사용하는 방법이다. \n",
        "\n",
        "================================================================\n",
        "```\n",
        "\n",
        "**교차 출처 리소스 공유(Cross-origin resource sharing, CORS)**\n",
        "\n",
        "----------------------------------------------------------\n",
        "\n",
        "자바스크립트는 다른 도메인의 데이터를 기본적으로 가져올 수 없다."
      ],
      "metadata": {
        "id": "A1edQiE7t0nI"
      }
    }
  ]
}