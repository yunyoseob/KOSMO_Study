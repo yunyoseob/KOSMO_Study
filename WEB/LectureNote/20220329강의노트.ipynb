{
  "nbformat": 4,
  "nbformat_minor": 0,
  "metadata": {
    "colab": {
      "name": "20220329강의노트.ipynb",
      "provenance": [],
      "collapsed_sections": []
    },
    "kernelspec": {
      "name": "python3",
      "display_name": "Python 3"
    },
    "language_info": {
      "name": "python"
    }
  },
  "cells": [
    {
      "cell_type": "markdown",
      "source": [
        "# Web"
      ],
      "metadata": {
        "id": "VPt86LvLJ5ri"
      }
    },
    {
      "cell_type": "markdown",
      "source": [
        "```javascript\n",
        "<html>\n",
        "<head>\n",
        "<script type=\"text/javascript\"> // 헤드에서만 \"text/javascript\" 쓴다.\n",
        "</head>\n",
        "\n",
        "<body>\n",
        "<script type> // 바디에서는 쓰지 않는다.\n",
        "</body>\n",
        "</html>\n",
        "```\n",
        "\n"
      ],
      "metadata": {
        "id": "4F_KVhEkJ5uD"
      }
    },
    {
      "cell_type": "markdown",
      "source": [
        "**✔ html문서가 파싱이 되어서, DOM Tree가 만들어지고 나면**\n",
        "\n",
        "> **html은 head 태그를 먼저 읽고, body태그를 읽는다.**\n",
        "\n",
        "> **css를 읽는 엔진이 따로 있고,**\n",
        "\n",
        "> **javascript를 읽는 엔진이 따로 있다.**\n",
        "\n",
        ">> **jQuery는 jQuery를 읽는 엔진이 따로 있다.**\n",
        "\n",
        "엔진별로 읽는 순서가 다르다."
      ],
      "metadata": {
        "id": "dZuCzs-9J5we"
      }
    },
    {
      "cell_type": "markdown",
      "source": [
        "리터럴 객체 => 객체 (JavaScript)\n",
        "\n",
        "\"{리터럴 객체}\" => 문자열 (JSON)"
      ],
      "metadata": {
        "id": "u-QN7YrKJ5y0"
      }
    },
    {
      "cell_type": "markdown",
      "source": [
        "> **JavaScript와 jQuery 인터넷 브라우저에서 콘솔 찍는 여러 방법**\n",
        "\n",
        "\n",
        "```javascript\n",
        "// jQuery val() 함수를 이용한 것\n",
        "\t\t\t// $(\"#t2\").val() : 제이쿼리 선택자 아이디 \n",
        "\t\t\t// val : 값을 가져오는 제이쿼리 함수 \n",
        "\t\t\tvar t2 = $(\"#t2\").val();\n",
        "\t\t\tconsole.log(\"t2 >>> : \" + t2);\n",
        "\t\t\t\n",
        "\t\t\t// 자바스크립트 getElementById(\"아이디명\") 함수 와 \n",
        "\t\t\t// 자바스크립트 value 속성을 이용한 것 \n",
        "\t\t\t// getElementById() :  아이디를 찾아오는 자바스크립트 함수\n",
        "\t\t\t// t2 : <input type=\"text\" id=\"t2\" id의 속성의 값\n",
        "\t\t\tvar t2_1 = document.getElementById(\"t2\");\n",
        "\t\t\tconsole.log(\"t2_1 >>> : \" + t2_1);\n",
        "\t\t\tconsole.log(\"t2_1.value >>> : \" + t2_1.value);\n",
        "\t\t\t\n",
        "\t\t\t// 자바스크립트 태그의 name 속성 및 \n",
        "\t\t\t// 자바스크립트 value 속성을 이용한 것 \n",
        "\t\t\t// document : BOM document 객체\n",
        "\t\t\t// form_t2_name : form 태그의 name 속성의 값\n",
        "\t\t\t// t2 : <input type=\"text\" name=\"t2\" name의 속성의 값\n",
        "\t\t\tvar t2_2 = document.form_t2_name.t2;\n",
        "\t\t\tconsole.log(\"t2_2 >>> : \" + t2_2);\n",
        "\t\t\tconsole.log(\"t2_2.value >>> : \" + t2_2.value);\n",
        "\n",
        "```"
      ],
      "metadata": {
        "id": "koaUNpcWJ51B"
      }
    },
    {
      "cell_type": "markdown",
      "source": [
        "### JavaScript, jQuery 로그 찍는 법"
      ],
      "metadata": {
        "id": "C9IqYzFxhjtR"
      }
    },
    {
      "cell_type": "markdown",
      "source": [
        "- 인터넷별로 엔진은 같은데 객체 표기가 다르게 나올수도 있음\n",
        "\n",
        "> **JavaScript**\n",
        "\n",
        "```javascript\n",
        "alert\n",
        "console.log\n",
        "```\n",
        "\n",
        "> **jQuery**\n",
        "\n",
        "```html\n",
        "<%\n",
        "System.out.println();\n",
        "out.println();\n",
        "%>\n",
        "\n",
        "<!-- 로그 찍기 -->\n",
        "<%= 출력할 내용 %>\n",
        "\n",
        "<%\n",
        "  System.out.println();\n",
        "  out.println();\n",
        "%>\n",
        "```"
      ],
      "metadata": {
        "id": "UW3glQVMD7_i"
      }
    }
  ]
}