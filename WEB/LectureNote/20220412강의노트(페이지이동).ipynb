{
  "nbformat": 4,
  "nbformat_minor": 0,
  "metadata": {
    "colab": {
      "name": "20220412강의노트(페이지이동).ipynb",
      "provenance": [],
      "collapsed_sections": []
    },
    "kernelspec": {
      "name": "python3",
      "display_name": "Python 3"
    },
    "language_info": {
      "name": "python"
    }
  },
  "cells": [
    {
      "cell_type": "markdown",
      "source": [
        "# web"
      ],
      "metadata": {
        "id": "-2k2fhpUVdRG"
      }
    },
    {
      "cell_type": "markdown",
      "source": [
        "> **서블릿에서 사용하는 방법**\n",
        "\n",
        "getRequestDispathcer(\"컨텍스트를 제외한 파일의 경로\")\n",
        "\n",
        "- RequestDispathcer 인터페이스는 Context 안에서만 이동하는 객체이다."
      ],
      "metadata": {
        "id": "fynSb0gFVdUJ"
      }
    },
    {
      "cell_type": "markdown",
      "source": [
        "## 강의노트"
      ],
      "metadata": {
        "id": "JFnV27RYVdWM"
      }
    },
    {
      "cell_type": "markdown",
      "source": [
        "2022-04-12\n",
        "\n",
        "--------------------------\n",
        "\n",
        "\n",
        "**웹 어플리케이션** \n",
        "\n",
        "------------------------\n",
        "\n",
        "브라우저에서 동작하는 프로그램\n",
        "\n",
        "브라우저에서 브라우저로 이동하는 프로그램\n",
        " : 이동할 때 웹 문서 사용 : html \n",
        "\n",
        "웹 문서에서 또다른 웹 문서 \n",
        "\n",
        "웹 문서에서 같은 웹 문서로 이동 \n",
        "\n",
        "\n",
        "**웹 페이지를 이동하는 기술** \n",
        "\n",
        "----------------------------\n",
        "\n",
        "**HTML <a> 앵커 태그** \n",
        "\n",
        "------------------------------------------\n",
        "\n",
        "```\n",
        "1.\t<a href=\"\"\n",
        "\t<a> : HTML a  태그 \n",
        "```\n",
        "\n",
        "**자바스크립트 객체 사용**\n",
        "\n",
        "------------------------------------------\n",
        "\n",
        "```\n",
        "$$$$$$$$$$$$$$$$$$$$$$$$$$$$$$$$$$$$$$$$$$$$$$\n",
        "2.\tlocation.href=\"\"\n",
        "\tlocation : 자바스크립트 객체 \n",
        "$$$$$$$$$$$$$$$$$$$$$$$$$$$$$$$$$$$$$$$$$$$$$$\n",
        "```\n",
        "\n",
        "```\n",
        "3.\thistory.go(-1)\n",
        "\n",
        "\n",
        "\thistory : 자바스크립트 객체 \n",
        "```\n",
        "\n",
        "**form 태그에서 자바스크립트 submit 함수** \n",
        "\n",
        "------------------------------------------\n",
        "\n",
        "```\n",
        "4.\t<form action=\"\"\n",
        "\t<input type=\"submit\"\n",
        "\tsubmit : 자바스크립트 함수 \n",
        "\t이벤트 처리 : 자바스크립트, jQuery \n",
        "```\n",
        "\n",
        "**include : 정적 , 동적** \n",
        "\n",
        "------------------------------------------\n",
        "\n",
        "```\n",
        "5.\t<%@ include file=\"파일명\" />\n",
        "\n",
        "6.\t<jsp:include path=\"컨텍스트를 제외한 파일의경로\" />\n",
        "\n",
        "7.\t<jsp:include path=\"컨텍스트를 제외한 파일의경로\">\n",
        "\t\t<jsp:param name=\"\" value=\"\">\n",
        "\t</jsp:include>\n",
        "```\n",
        "\n",
        "**forward : 이동할 페이지 url 이 보이지 않는다.**\n",
        "\n",
        "------------------------------------------\n",
        "\n",
        "```\n",
        "8.\tRequestDispatcher rd = request.getRequestDispatcher(\"컨텍스트를 제외한 파일의경로\");\n",
        "\trd.forward(request, response);\n",
        "\t\tRequestDispatcher 인터페이스는 Context 안에서만 이동하는 객체이다.\n",
        "\t\n",
        "9.\tpageContext.forward(\"컨텍스트를 제외한 파일의경로\")\n",
        "\n",
        "10.\t<jsp:forward path=\"컨텍스트를 제외한 파일의경로\" />\n",
        "\n",
        "11.\t<jsp:forward path=\"컨텍스트를 제외한 파일의경로\">\n",
        "\t\t<jsp:param name=\"\" value=\"\">\n",
        "\t</jsp:forward>\n",
        "```\n",
        "\n",
        "\n",
        "**forward : 이동할 페이지 url 이 보인다.**\n",
        "\n",
        "------------------------------------------\n",
        "\n",
        "```\n",
        "12.\tresponse.sendRedirect(\"URL\");\n",
        "\t1). 요청한 페이지를 보여주고 \n",
        "\t2). 응답할 페이지로 이동을 하기 전에 \n",
        "\t3). 요청한 페이지의 url 끊고 \n",
        "\t4). 응답할 페이지를 새로 요청을 한다.\n",
        "\t5). 응답 페이지를 받는다. \n",
        "```\n",
        "\n",
        "\n",
        "\n",
        "\n",
        "\n",
        "\n",
        "\n",
        "\n",
        "\n",
        "\n",
        "\n",
        "\n",
        "\n",
        "\n",
        "\n",
        "\n",
        "\n",
        "\n",
        "\n",
        "\n"
      ],
      "metadata": {
        "id": "zSzTY2AHVdYR"
      }
    }
  ]
}