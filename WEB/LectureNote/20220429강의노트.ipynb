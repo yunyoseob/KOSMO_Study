{
  "nbformat": 4,
  "nbformat_minor": 0,
  "metadata": {
    "colab": {
      "name": "20220429강의노트.ipynb",
      "provenance": [],
      "collapsed_sections": []
    },
    "kernelspec": {
      "name": "python3",
      "display_name": "Python 3"
    },
    "language_info": {
      "name": "python"
    }
  },
  "cells": [
    {
      "cell_type": "markdown",
      "source": [
        "# Web"
      ],
      "metadata": {
        "id": "eRAr6pauzYvV"
      }
    },
    {
      "cell_type": "markdown",
      "source": [
        "> **Validation : 유효성 검사**\n",
        "\n",
        " 데이터 유형이 내가 원하는 데이터가 맞는지를 체크하는 것 (ex : null 값 체크)\n",
        "\n",
        "- 개발하고 맨 마지막에 한다.\n"
      ],
      "metadata": {
        "id": "1r-SHF_mzYxu"
      }
    },
    {
      "cell_type": "markdown",
      "source": [
        "> **공부할 때 중요한 것**\n",
        "\n",
        "- **구현체 1번**\n",
        "\n",
        "- **말로 할수 있는게 2번**"
      ],
      "metadata": {
        "id": "NFClRCw-zowf"
      }
    },
    {
      "cell_type": "markdown",
      "source": [
        "## Ajax"
      ],
      "metadata": {
        "id": "gSoEfOqkzoy4"
      }
    },
    {
      "cell_type": "markdown",
      "source": [
        "**2022-04-29**\n",
        "\n",
        "---------------------------\n",
        "\n",
        "```\n",
        "jps 페이지 이동 \n",
        "\t페이지를 이동하면 화면 전환(화면 리프레시)이 이루어 진다. \n",
        "```\n",
        "\n",
        "> **데이터 이동** \n",
        "\n",
        "HTTP 프로토콜 \n",
        "\n",
        "```\n",
        "컨넥션 리스 : Connectionless \n",
        "한번 연결해서 (데이터를 요청하면) \n",
        "====================================\n",
        "====================================\n",
        "데이터를 받으면 (데이터가 응답되면)\n",
        "연결한 것을 끝는다. \n",
        "\n",
        "하위에 TCP 프로토콜\n",
        "Connection \n",
        "```\n",
        "\n",
        "\n",
        ">  **Ajax : 통신 규칙 : request, response**\n",
        "\n",
        ": 구글 엔지니어 XMLHttpRequest 기술로 만든다.\n",
        "\n",
        ": 구글의 지도 서비스를 하기 위해서 \n",
        "\n",
        "```\n",
        "ajax(), load(), get(), post() .... \n",
        "\n",
        "$.ajax({\n",
        "\turl:, \n",
        "\ttype:,\n",
        "\tdata:, \n",
        "\tdataType:,\n",
        "\tsuccess:,\n",
        "\terror:\n",
        "})\n",
        "```\n",
        "\n",
        "> **Ajax(Asynchronous JavaScript and XML)**\n",
        "\n",
        "======================================================== \t\n",
        "\n",
        "Web 화면을 갱신하지 않고 Server로부터 Data를 가져오는 방법\n",
        " \t\n",
        "```   \n",
        "함수 : load(), $.ajax(), $.get(), $.post(), $.getJSON() \n",
        "\n",
        "$.ajax() 함수는  load, get, post 함수를 포함하는 함수이다. \n",
        "```\n",
        "\n",
        "> **예약어(keyword)**\n",
        "\n",
        ": ajax() 함수에서 {} : 자바스크립트 리터럴객체 블럭 사용 하는 것 \n",
        "\n",
        "```javascript\n",
        "url      : 요청이 전송되는 URL이 포함된 문자열\n",
        "type     : http요청 방식 : GET/POST\n",
        "data     : http요청 파라미터 문자열 key=value&key=value\t\t   \n",
        "dataType : http요청 후 return하는 데이터 Type\n",
        "\t\t   xml, html, srcipt, json, jsonp, text \n",
        "\n",
        "success  : function(data: 리턴매개변수, 변수 이름이 가변적이다 ){....} : http요청 성공시 이벤트 핸들러 \n",
        "error    : function(){.....} : http요청 실패시 이벤트 핸들러\n",
        "\n",
        "async    : 요청시 동기 유무 선택(true/false)\n",
        "\t\t   true : async, false : sync\n",
        "cache    : 브라우저에 의해 요청되는 페이지를 캐시(true/false)\n",
        "\t\t   true : 캐시사용, false : 캐시사용하지 않음 \t\t\n",
        "timeout  : http요청에 대한 제한 시간(단위 : ms)\t```\t   \n",
        "\n",
        "\n",
        "**ajax() 함수**\n",
        "\n",
        "---------------------------------------\n",
        "\n",
        "```javascript\n",
        "$.ajax({\n",
        "\t\n",
        "\t\"url\" : \"접속할 페이지 주소\" \n",
        "   \n",
        "   ,\"type\" : \"GET\" or \"POST\"\n",
        "   \n",
        "   ,\"dataType\" : \"XML\" or \"JSON\"\n",
        "   \n",
        "   ,\"data\" : \"파라미터 문자열 key=value&key=value\" or { \"key\":\"value\", \"key\":\"value\"}\n",
        "   \n",
        "   ,\"success\" : function(data){\n",
        "\t\t\t\t// 통신에 성공했을 때 실행되는 함수 \n",
        "   } \n",
        "   \n",
        "   ,\"error\" : function(data){\n",
        "\t\t\t\t// 통신에 실패했을 때 실행되는 함수 \n",
        "   } \n",
        "});\t           \t\t\t \t         \n",
        "```\n",
        "\n",
        "> **get() 함수**\n",
        "\n",
        "---------------------------------------\n",
        "\n",
        "```javascript\n",
        "$.get({\n",
        "\n",
        "\t\"url\"\n",
        "   \n",
        "   ,{파라미터 Object(JSON)}\n",
        "   \n",
        "   ,function (){\n",
        "\t// 통신에 성공했을 때 실행되는 함수 \n",
        "   }\t\t\t\n",
        "});\n",
        "\n",
        "\n",
        "var ajax = $.get(\"url\",{파라미터 Object(JSON)},function (){... });\n",
        "ajax.fail(function(){\n",
        "\t// 404, 500 에러등이 발생한 경우 실행 \n",
        "});\n",
        "ajax.always(function(){\n",
        "\t// 통신 성공, 실패 여부에 상관없이 무조건 마지막에 호출됨\n",
        "});\n",
        "```\n",
        "\n",
        "> **post() 함수**\n",
        "\n",
        "---------------------------------------\n",
        "\n",
        "```javascript\n",
        "$.post({\n",
        "\t\n",
        "\t\"url\"\n",
        "   \n",
        "   ,{파라미터 Object(JSON)}\n",
        "   \n",
        "   ,function (){\n",
        "\t// 통신에 성공했을 때 실행되는 함수 \n",
        "   }\t\t\t\n",
        "});\n",
        "``` \t"
      ],
      "metadata": {
        "id": "eV84y7b1zo1a"
      }
    }
  ]
}