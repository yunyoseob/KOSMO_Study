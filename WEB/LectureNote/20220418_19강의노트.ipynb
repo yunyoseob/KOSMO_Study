{
  "nbformat": 4,
  "nbformat_minor": 0,
  "metadata": {
    "colab": {
      "name": "20220418-19강의노트.ipynb",
      "provenance": [],
      "collapsed_sections": []
    },
    "kernelspec": {
      "name": "python3",
      "display_name": "Python 3"
    },
    "language_info": {
      "name": "python"
    }
  },
  "cells": [
    {
      "cell_type": "markdown",
      "source": [
        "# WEB"
      ],
      "metadata": {
        "id": "HdjQIrlmJ_wP"
      }
    },
    {
      "cell_type": "markdown",
      "source": [
        "## 20220418 강의노트"
      ],
      "metadata": {
        "id": "za1Re4kliwW8"
      }
    },
    {
      "cell_type": "markdown",
      "source": [
        "> **리터럴 객체**\n",
        "\n",
        "```\n",
        "리터럴 객체란\n",
        "\n",
        "중괄호 안에 property : property value로 구성되어 있는 것을 의미한다.\n",
        "```\n",
        "\n",
        "> **JSON**\n",
        "\n",
        "```\n",
        "JSON(JavaScript Object Notation)\n",
        "\n",
        "자바스크립트 객체를 문자열로 표기하는 것을 의미한다.\n",
        "\n",
        "다른 말로 리터럴 객체에 더블 쿼테이션을 씌워놓은 것을 의미한다.\n",
        "\n",
        "```"
      ],
      "metadata": {
        "id": "uqNr5XKXJ_y-"
      }
    },
    {
      "cell_type": "markdown",
      "source": [
        "## 20220419 강의노트"
      ],
      "metadata": {
        "id": "26OqnsCDJ_1h"
      }
    },
    {
      "cell_type": "markdown",
      "source": [
        "**파일 업로드**\n",
        "\n",
        "-----------------\n",
        "\n",
        "1. 파일 \n",
        "\t\n",
        "```\n",
        "\t파일이름 \n",
        "\t-------------\n",
        "\t-------------\t\n",
        "\t파일 바이러니 \n",
        "```\n",
        "\n",
        "2. 파일을 이동 하려면 : copy & move \n",
        "\n",
        "```\n",
        "\tStream IO 를 이용해야 한다. \n",
        "\n",
        "\t문서 파일 \n",
        "\t이미지 파일\n",
        "\t동영상 파일 \n",
        "\t음성 파일 ....\n",
        "\n",
        "\t스트리밍 서비스 \n",
        "```\n",
        "\n",
        "3. jsp 기술로 데이터를 이동 \n",
        "\n",
        "```\n",
        "\ttext 데이터 이동 : request.getParameter()\n",
        "\tfile 데이터 이동 : <input type=\"file\" \n",
        "\t\t\t\t\tIO 를 이용해서 스트림을 처리해야 한다. \n",
        "\t\t\t\t\t파일 업로드 컴포넌트를 사용해서 한다. \n",
        "\t\n",
        "\t우리가 공부할 때 file 데이터 이동은 \n",
        "\t\t이미지 \n",
        "\t\t파일 업로드로 파일을 서버의 디렉토리에 저장하고 \n",
        "\t\t업로드된 파일의 파일명을 데이터베이스에 저장해서 \n",
        "\t\t사용을 한다. \n",
        "\n",
        "\t파일 데이터를 관계형 데이터베이스에 저장해서 사용하는 기술\n",
        "\t데이터베이스 CLOB, BLOB\n",
        "\tSQL : 콜러블스테이트먼트 : CallableStatement\n",
        "```\n",
        "\n",
        "4.\t자바 기술로 파일을 이동할 때는\n",
        "\n",
        "```\n",
        "\t파일경로, 파일 이름은 무조건 한글 사용을 지양한다.\n",
        "```\n",
        "\n",
        "5.\tFILE UPLOAD : 요청 \n",
        "\n",
        "```\n",
        "\t\tmethod : POST\n",
        "\t\tenctype : multipart/form-data\n",
        "\t파일업로드 컴포넌트 : \n",
        "\t\t1.\tcos.jar \n",
        "\t\t2.\tcommons-fileupload-1.2.1.jar\n",
        "\t\t\tcommons-io-1.4.jar\n",
        "\t\t3.\t@MultipartConfig 어노테이션 \n",
        "\tContent-Type\n",
        "\t\tmedia-type : 리소스 혹은 데이터의 MIME type.\t\n",
        "\t\tcharset : 문자 인코딩 표준.\n",
        "\t\tboundary : 메시지의 멀티 파트 경계선을 캡슐화하기 위해\n",
        "```\n",
        "\n",
        "6.\tcos.jar 사용법\n",
        "\n",
        "```\n",
        "\t1.\tmethod : POST\n",
        "\t\tenctype : multipart/form-data\n",
        "\t2.\t파일 저장소 \n",
        "\t\t상수로 사용하기 \n",
        "\t\tpublic static final String \tTEST_IMG_UPLOAD_PATH = \"C:\\\\00.KOSMO108\\\\30.Web\\\\eclipse_work_hbe_work\\\\.metadata\\\\.plugins\\\\org.eclipse.wst.server.core\\\\tmp0\\\\wtpwebapps\\\\kosMember\\\\upload\\\\aaaa\";\n",
        "\t3.\tMultipartRquest 생성자 인스턴스가 되면 이때 파일이 업로드가 완료 된 것이다.\n",
        "\t\t이후 부터는 \n",
        "\t\tMultipartRquest 객체의 참조변수로 사용한다. \n",
        "```\n"
      ],
      "metadata": {
        "id": "_kNy2qWmJ_4A"
      }
    },
    {
      "cell_type": "markdown",
      "source": [
        "**메일 보내기**\n",
        "\n",
        "--------------------------\n",
        "\n",
        "SMTP 프로토콜 Simple Mail Transfer Protocol\n",
        "\n",
        "```\n",
        "\t인터넷상에서 이메일을 전송하기 위해서 사용되는 통신 규약\n",
        "```\n",
        "\n",
        "SMTP 서버\n",
        "\n",
        "```\n",
        "\t이메일을 송수신하는 서버 \n",
        "\n",
        "mail-1.4.7.jar : JavaMail 라이브러ㅣ \n",
        "https://mvnrepository.com/artifact/javax.mail/mail/1.4.7\n",
        "\n",
        "\n",
        "HTTP\n",
        "\tHyper Text Transfer Protocol\n",
        "\t클라이언트와 서버 사이에 요청/응답 request/response 프로토콜\n",
        "\t주로 일반 텍스트로 이루어진 HTML 문서를 주고 받음\n",
        "\n",
        "HTTPS\n",
        "\tHyper Text Transfer Protocol over Secure Socket Layer\n",
        "\t소켓 통신에서 일반 텍스트르르 이용하며,\n",
        "\tSSL이나 TLS 프로토콜을 통해 세션 데이터를 암호함\n",
        "\n",
        "SSL\n",
        "\tSecure Socket Layer 보안 소켓 계층\n",
        "\t데이터를 안전하게 전송하기 위한 인터넷 암호화 통신 프로토콜\n",
        "\t전자상거래 등 보안을 위해 네스케이프 netscape에서 처음 만듬\n",
        "\t\n",
        "\tSSL을 적용하지 않고 암호화되지 않는 데이터를 전송하면\n",
        "\t스누핑 Snooping, 스니핑 Sniffing 의 위협에 노출 됨\n",
        "TLS\n",
        "\tTransport Layer Security\n",
        "\t인터넷에서 저옵를 암호화해서 송수신하는 프로토콜\n",
        "\tSSL 기반 기술로 국제 인터넷 표준화 기구에서 표준으로 인정\n",
        "\tSSL은 POODLE, DROWN드의 취약점이 발견되어현재는 사용하지 않음\n",
        "\t다양한 종류의 보안 통신을 하기위한 프로토콜\n",
        "```\n",
        "\n",
        "스크립트\n",
        "\n",
        "```\n",
        "\tcheckbox\n",
        "\tradio\n",
        "\tselectbox \n",
        "```\n",
        "\n",
        "파일 업로드 \n",
        "\n",
        "메일\n",
        "\n",
        "지도 서비스 \n",
        "\n",
        "시각화 : 차트 \n",
        "\n",
        "Open API : 날씨, 공공정보 \n",
        "\n",
        "SNS 로긴\n",
        "\n",
        "아이디, 패스워드 찾기 \n"
      ],
      "metadata": {
        "id": "jbs_nBMMKtRu"
      }
    }
  ]
}